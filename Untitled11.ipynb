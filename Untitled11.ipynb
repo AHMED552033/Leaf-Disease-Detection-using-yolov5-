{
 "cells": [
  {
   "cell_type": "code",
   "execution_count": 1,
   "id": "52b32873-c7a9-4c67-b807-c56086400ee4",
   "metadata": {},
   "outputs": [
    {
     "name": "stdout",
     "output_type": "stream",
     "text": [
      "\u001b[33mWARNING: Package(s) not found: tensorflow-gpu\u001b[0m\u001b[33m\n",
      "\u001b[0m"
     ]
    }
   ],
   "source": [
    "#pip install tensorflow-gpu==2.5.0 \n",
    "!pip show tensorflow-gpu "
   ]
  },
  {
   "cell_type": "code",
   "execution_count": 3,
   "id": "6a91e0ef-005c-4a50-acc2-63137c0d0ee7",
   "metadata": {},
   "outputs": [
    {
     "ename": "SyntaxError",
     "evalue": "expected 'else' after 'if' expression (2583380814.py, line 1)",
     "output_type": "error",
     "traceback": [
      "\u001b[0;36m  Cell \u001b[0;32mIn[3], line 1\u001b[0;36m\u001b[0m\n\u001b[0;31m    print('AII set.using pytorch version %s with %s' % (torch._version_, torch.cuda.get_device_properties(0) if torch.cuda.is_available)\u001b[0m\n\u001b[0m                                                                         ^\u001b[0m\n\u001b[0;31mSyntaxError\u001b[0m\u001b[0;31m:\u001b[0m expected 'else' after 'if' expression\n"
     ]
    }
   ],
   "source": [
    "print('AII set.using pytorch version %s with %s' % (torch._version_, torch.cuda.get_device_properties(0) if torch.cuda.is_available)\n",
    "    "
   ]
  },
  {
   "cell_type": "code",
   "execution_count": 6,
   "id": "494d45ad-3972-4d37-b923-e09be4089fab",
   "metadata": {},
   "outputs": [],
   "source": [
    "#pip install tensorboard==2.4.1\n",
    "\n",
    "#pip install setuptools==59.5.0\n",
    "#pip install Iprogress  \n",
    "#pip install tqdm\n",
    "#pip install --upgrade ipywidgets\n",
    "\n"
   ]
  },
  {
   "cell_type": "code",
   "execution_count": null,
   "id": "8577a9d2-641b-45f5-9cb3-a76cdd56a7fb",
   "metadata": {},
   "outputs": [],
   "source": [
    "import torch #YOLOv5 implemented using pytorch\n",
    "\n",
    "from IPython.display import Image #this is to render predictions\n",
    "from tqdm import tqdm\n",
    "\n",
    "import IProgress\n",
    "from ipywidgets_ import Intprogress "
   ]
  },
  {
   "cell_type": "code",
   "execution_count": null,
   "id": "e9c9ff9f-9fcc-474b-adbd-c72070ef72f5",
   "metadata": {},
   "outputs": [],
   "source": [
    "#!git clone https://githup.com/ultralytics/yolov5"
   ]
  },
  {
   "cell_type": "code",
   "execution_count": 7,
   "id": "9011edd5-f66b-440f-94e7-000060a143c6",
   "metadata": {},
   "outputs": [
    {
     "name": "stdout",
     "output_type": "stream",
     "text": [
      "[Errno 2] No such file or directory: 'yolov5'\n",
      "/Users/mac\n"
     ]
    }
   ],
   "source": [
    "%cd yolov5 "
   ]
  },
  {
   "cell_type": "code",
   "execution_count": 8,
   "id": "95320194-40dd-4cac-b643-261d13c1f84a",
   "metadata": {},
   "outputs": [],
   "source": [
    "#!pip install -r requirements.txt"
   ]
  },
  {
   "cell_type": "code",
   "execution_count": 9,
   "id": "a1cf72ff-6d50-4f8b-b807-29d7a63c55e1",
   "metadata": {},
   "outputs": [],
   "source": [
    "#/pip install pandas\n",
    "#/pip install opencv-python\n",
    "#!pip install matplotlib \n",
    "#!pip install seaborn\n",
    "#!pip install wandb"
   ]
  },
  {
   "cell_type": "code",
   "execution_count": 10,
   "id": "1f981f0d-a78f-4e60-8c48-a11c3596b9d6",
   "metadata": {},
   "outputs": [],
   "source": [
    "#python train.py --img 416 --batch 16 --epochs 200 --data dataset.yaml --weights yolov5s.pt --cache\n",
    "\n",
    "# from scratch\n",
    "#louthon train. oy --dota datoset, vaml _-weights i Ling 416 --batch 16 a.epochs 290"
   ]
  },
  {
   "cell_type": "code",
   "execution_count": 12,
   "id": "e2dd8c7e-e14b-45b6-8a93-38e96f9bd41b",
   "metadata": {},
   "outputs": [
    {
     "name": "stderr",
     "output_type": "stream",
     "text": [
      "UsageError: Line magic function `%Ioad_ext` not found.\n"
     ]
    }
   ],
   "source": [
    "%Ioad_ext tensorboard\n",
    "%tensorboard --logdir runs\n",
    "  "
   ]
  },
  {
   "cell_type": "code",
   "execution_count": 13,
   "id": "db363d84-b2b1-4568-a349-a1fd842adee6",
   "metadata": {},
   "outputs": [
    {
     "ename": "NameError",
     "evalue": "name 'Image' is not defined",
     "output_type": "error",
     "traceback": [
      "\u001b[0;31m---------------------------------------------------------------------------\u001b[0m",
      "\u001b[0;31mNameError\u001b[0m                                 Traceback (most recent call last)",
      "Cell \u001b[0;32mIn[13], line 2\u001b[0m\n\u001b[1;32m      1\u001b[0m \u001b[38;5;66;03m#Plotting the first image\u001b[39;00m\n\u001b[0;32m----> 2\u001b[0m Image(filename\u001b[38;5;241m=\u001b[39m\u001b[38;5;124m'\u001b[39m\u001b[38;5;124mruns/train/exp5/val_batch1_pred.jpg\u001b[39m\u001b[38;5;124m'\u001b[39m, width\u001b[38;5;241m=\u001b[39m\u001b[38;5;241m1000\u001b[39m)\n",
      "\u001b[0;31mNameError\u001b[0m: name 'Image' is not defined"
     ]
    }
   ],
   "source": [
    "#Plotting the first image\n",
    "Image(filename='runs/train/exp5/val_batch1_pred.jpg', width=1000)"
   ]
  },
  {
   "cell_type": "code",
   "execution_count": 14,
   "id": "38eb8479-ba56-4aab-a8a9-1cf5b9f061f5",
   "metadata": {},
   "outputs": [
    {
     "name": "stdout",
     "output_type": "stream",
     "text": [
      "python: can't open file '/Users/mac/detect.py': [Errno 2] No such file or directory\n"
     ]
    }
   ],
   "source": [
    "!python detect.py --weights runs/train/exp5/weights/best.pt --img 416 --conf 0.25 -- source runs/train/exp5/test"
   ]
  },
  {
   "cell_type": "code",
   "execution_count": 15,
   "id": "6bdbf642-f359-4e3e-b857-2018df91c970",
   "metadata": {},
   "outputs": [
    {
     "ename": "NameError",
     "evalue": "name 'Image' is not defined",
     "output_type": "error",
     "traceback": [
      "\u001b[0;31m---------------------------------------------------------------------------\u001b[0m",
      "\u001b[0;31mNameError\u001b[0m                                 Traceback (most recent call last)",
      "Cell \u001b[0;32mIn[15], line 2\u001b[0m\n\u001b[1;32m      1\u001b[0m \u001b[38;5;66;03m#Plotting the prediction\u001b[39;00m\n\u001b[0;32m----> 2\u001b[0m Image (filename\u001b[38;5;241m=\u001b[39m\u001b[38;5;124m'\u001b[39m\u001b[38;5;124mruns/detect/exp5/11.jpg\u001b[39m\u001b[38;5;124m'\u001b[39m, width\u001b[38;5;241m=\u001b[39m\u001b[38;5;241m416\u001b[39m)\n",
      "\u001b[0;31mNameError\u001b[0m: name 'Image' is not defined"
     ]
    }
   ],
   "source": [
    "#Plotting the prediction\n",
    "Image (filename='runs/detect/exp5/11.jpg', width=416)"
   ]
  },
  {
   "cell_type": "code",
   "execution_count": 16,
   "id": "d1dc3077-4158-444f-94f6-f5f1b6f8a162",
   "metadata": {},
   "outputs": [
    {
     "ename": "NameError",
     "evalue": "name 'Image' is not defined",
     "output_type": "error",
     "traceback": [
      "\u001b[0;31m---------------------------------------------------------------------------\u001b[0m",
      "\u001b[0;31mNameError\u001b[0m                                 Traceback (most recent call last)",
      "Cell \u001b[0;32mIn[16], line 2\u001b[0m\n\u001b[1;32m      1\u001b[0m \u001b[38;5;66;03m#Plotting the prediction\u001b[39;00m\n\u001b[0;32m----> 2\u001b[0m Image(filename\u001b[38;5;241m=\u001b[39m\u001b[38;5;124m'\u001b[39m\u001b[38;5;124mruns/detect/exp5/15.jpg\u001b[39m\u001b[38;5;124m'\u001b[39m, width\u001b[38;5;241m=\u001b[39m\u001b[38;5;241m416\u001b[39m)\n",
      "\u001b[0;31mNameError\u001b[0m: name 'Image' is not defined"
     ]
    }
   ],
   "source": [
    "#Plotting the prediction\n",
    "Image(filename='runs/detect/exp5/15.jpg', width=416)\n"
   ]
  },
  {
   "cell_type": "code",
   "execution_count": 17,
   "id": "c1e00ecc-5826-4c7f-9f07-03042706fb6e",
   "metadata": {},
   "outputs": [
    {
     "ename": "NameError",
     "evalue": "name 'Image' is not defined",
     "output_type": "error",
     "traceback": [
      "\u001b[0;31m---------------------------------------------------------------------------\u001b[0m",
      "\u001b[0;31mNameError\u001b[0m                                 Traceback (most recent call last)",
      "Cell \u001b[0;32mIn[17], line 2\u001b[0m\n\u001b[1;32m      1\u001b[0m \u001b[38;5;66;03m#Plotting the prediction\u001b[39;00m\n\u001b[0;32m----> 2\u001b[0m Image (filename\u001b[38;5;241m=\u001b[39m\u001b[38;5;124m'\u001b[39m\u001b[38;5;124mruns/detect/exp/test_2.jpg\u001b[39m\u001b[38;5;124m'\u001b[39m, width\u001b[38;5;241m=\u001b[39m\u001b[38;5;241m416\u001b[39m)\n",
      "\u001b[0;31mNameError\u001b[0m: name 'Image' is not defined"
     ]
    }
   ],
   "source": [
    "#Plotting the prediction\n",
    "Image (filename='runs/detect/exp/test_2.jpg', width=416)"
   ]
  },
  {
   "cell_type": "code",
   "execution_count": 18,
   "id": "6407f4dd-2a09-4097-9422-f6b3c2b53ecc",
   "metadata": {},
   "outputs": [
    {
     "ename": "NameError",
     "evalue": "name 'Image' is not defined",
     "output_type": "error",
     "traceback": [
      "\u001b[0;31m---------------------------------------------------------------------------\u001b[0m",
      "\u001b[0;31mNameError\u001b[0m                                 Traceback (most recent call last)",
      "Cell \u001b[0;32mIn[18], line 2\u001b[0m\n\u001b[1;32m      1\u001b[0m \u001b[38;5;66;03m#Plotting the prediction\u001b[39;00m\n\u001b[0;32m----> 2\u001b[0m Image (filename\u001b[38;5;241m=\u001b[39m\u001b[38;5;124m'\u001b[39m\u001b[38;5;124mruns/detect/exp/test_3.jpg\u001b[39m\u001b[38;5;124m'\u001b[39m, width\u001b[38;5;241m=\u001b[39m\u001b[38;5;241m416\u001b[39m)\n",
      "\u001b[0;31mNameError\u001b[0m: name 'Image' is not defined"
     ]
    }
   ],
   "source": [
    "#Plotting the prediction\n",
    "Image (filename='runs/detect/exp/test_3.jpg', width=416)"
   ]
  },
  {
   "cell_type": "code",
   "execution_count": null,
   "id": "57c47c81-07f1-4756-b4e3-24c928a358b7",
   "metadata": {},
   "outputs": [],
   "source": []
  }
 ],
 "metadata": {
  "kernelspec": {
   "display_name": "Python 3 (ipykernel)",
   "language": "python",
   "name": "python3"
  },
  "language_info": {
   "codemirror_mode": {
    "name": "ipython",
    "version": 3
   },
   "file_extension": ".py",
   "mimetype": "text/x-python",
   "name": "python",
   "nbconvert_exporter": "python",
   "pygments_lexer": "ipython3",
   "version": "3.11.7"
  }
 },
 "nbformat": 4,
 "nbformat_minor": 5
}
